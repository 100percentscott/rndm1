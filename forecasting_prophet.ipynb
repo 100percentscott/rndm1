{
 "cells": [
  {
   "cell_type": "code",
   "execution_count": null,
   "metadata": {
    "ExecuteTime": {
     "end_time": "2017-06-14T09:39:37.841806Z",
     "start_time": "2017-06-14T09:39:37.832582Z"
    },
    "collapsed": false,
    "hide_input": true
   },
   "outputs": [],
   "source": [
    "Install required packages in terminal:\n",
    "\n",
    "#--Prophet\n",
    "./scripts/install_package_python2.sh numpy --upgrade\n",
    "./scripts/install_package_python2.sh fbprophet\n",
    "./scripts/install_package_python2.sh py4j --upgrade\n",
    "\n",
    "#--GSheet\n",
    "./scripts/install_package_python2.sh gspread\n",
    "./scripts/install_package_python2.sh oauth2client --upgrade\n",
    "./scripts/install_package_python2.sh pycrypto\n",
    "\n",
    "#--Styling\n",
    "./scripts/install_package_python2.sh hide_code"
   ]
  },
  {
   "cell_type": "markdown",
   "metadata": {},
   "source": [
    "# <span class=\"mark\">City Trip Forecasts w/ FBProphet</span>"
   ]
  },
  {
   "cell_type": "markdown",
   "metadata": {},
   "source": [
    "# <span class=\"mark\">Setup</span>"
   ]
  },
  {
   "cell_type": "code",
   "execution_count": 198,
   "metadata": {
    "ExecuteTime": {
     "end_time": "2017-06-23T10:53:35.933982Z",
     "start_time": "2017-06-23T10:53:35.924315Z"
    },
    "collapsed": true
   },
   "outputs": [],
   "source": [
    "#--Prophet\n",
    "from fbprophet import Prophet #prophet\n",
    "\n",
    "#--GSheet\n",
    "import json\n",
    "import gspread\n",
    "from oauth2client.service_account import ServiceAccountCredentials\n",
    "\n",
    "#--Query Tool & Data\n",
    "import pandas as pd #pandas\n",
    "\n",
    "#--Charting\n",
    "import matplotlib.pyplot as plt\n",
    "import numpy as np\n",
    "import pandas as pd\n",
    "import seaborn as sns\n",
    "%matplotlib inline\n",
    "plt.style.use('fivethirtyeight')\n",
    "\n",
    "import datetime"
   ]
  },
  {
   "cell_type": "markdown",
   "metadata": {},
   "source": [
    "# <span class=\"mark\">Queries</span>"
   ]
  },
  {
   "cell_type": "code",
   "execution_count": 199,
   "metadata": {
    "ExecuteTime": {
     "end_time": "2017-06-23T10:53:36.805792Z",
     "start_time": "2017-06-23T10:53:36.802697Z"
    },
    "collapsed": true
   },
   "outputs": [],
   "source": [
    "qr = Client(user_email=XXX)"
   ]
  },
  {
   "cell_type": "code",
   "execution_count": 200,
   "metadata": {
    "ExecuteTime": {
     "end_time": "2017-06-23T10:53:37.238658Z",
     "start_time": "2017-06-23T10:53:37.231073Z"
    },
    "collapsed": true,
    "hide_input": true
   },
   "outputs": [],
   "source": [
    "query01 = \"\"\"\"\"\""
   ]
  },
  {
   "cell_type": "code",
   "execution_count": 201,
   "metadata": {
    "ExecuteTime": {
     "end_time": "2017-06-23T10:55:48.276547Z",
     "start_time": "2017-06-23T10:53:37.553709Z"
    },
    "collapsed": false
   },
   "outputs": [
    {
     "name": "stderr",
     "output_type": "stream",
     "text": [
      "06/23/2017 10:53:37 AM \u001b[93m Created execution 5632b1c7-5cfb-4b34-b621-d8606e89ffc9 \u001b[0m\n",
      "WARNING:queryrunner:\u001b[93m Created execution 5632b1c7-5cfb-4b34-b621-d8606e89ffc9 \u001b[0m\n",
      "06/23/2017 10:54:46 AM \u001b[92m Query finished. \u001b[0m\n",
      "WARNING:queryrunner:\u001b[92m Query finished. \u001b[0m\n",
      "06/23/2017 10:54:47 AM \u001b[93m Created execution d55633d2-cd6d-41f8-8966-ad7a15f0b380 \u001b[0m\n",
      "WARNING:queryrunner:\u001b[93m Created execution d55633d2-cd6d-41f8-8966-ad7a15f0b380 \u001b[0m\n",
      "06/23/2017 10:55:48 AM \u001b[92m Query finished. \u001b[0m\n",
      "WARNING:queryrunner:\u001b[92m Query finished. \u001b[0m\n"
     ]
    }
   ],
   "source": [
    "data01 = qr.execute('warehouse', query01) #run query\n",
    "data02 = qr.execute('warehouse', query02) #run query"
   ]
  },
  {
   "cell_type": "code",
   "execution_count": 202,
   "metadata": {
    "ExecuteTime": {
     "end_time": "2017-06-23T10:55:48.483987Z",
     "start_time": "2017-06-23T10:55:48.278687Z"
    },
    "collapsed": true
   },
   "outputs": [],
   "source": [
    "df1 = pd.DataFrame(data01.load_data()) #load data into df\n",
    "df2 = pd.DataFrame(data02.load_data()) #load data into df"
   ]
  },
  {
   "cell_type": "code",
   "execution_count": 218,
   "metadata": {
    "ExecuteTime": {
     "end_time": "2017-06-23T11:11:04.956713Z",
     "start_time": "2017-06-23T11:11:04.939578Z"
    },
    "collapsed": false
   },
   "outputs": [],
   "source": [
    "trips1 = df1.pivot(\"day\",\"city_id\",\"trips\") #pivot trips to set cities to columns\n",
    "trips1.reset_index(inplace=True) #collapse index\n",
    "trips2 = df2\n",
    "trips2.columns=['day','rouk'] #rename column appropriately\n",
    "trips3 = pd.merge(trips1, trips2, on='day', how='left') #join data"
   ]
  },
  {
   "cell_type": "markdown",
   "metadata": {},
   "source": [
    "## set date to forecast from"
   ]
  },
  {
   "cell_type": "code",
   "execution_count": 219,
   "metadata": {
    "ExecuteTime": {
     "end_time": "2017-06-23T11:11:06.354259Z",
     "start_time": "2017-06-23T11:11:06.242526Z"
    },
    "collapsed": false,
    "hide_input": false
   },
   "outputs": [
    {
     "name": "stdout",
     "output_type": "stream",
     "text": [
      "trimmed at 2017-06-18\n"
     ]
    }
   ],
   "source": [
    "date_from = '2017-06-18' #select the date to forecast from (pick a sunday)\n",
    "#2017-05-28\n",
    "\n",
    "# find the index\n",
    "for i in range(0,len(trips3['day'])):\n",
    "    if trips3['day'][i] == date_from:\n",
    "        lim = i\n",
    "\n",
    "# trim df\n",
    "try:\n",
    "    trips = trips3[:lim]\n",
    "    del lim\n",
    "    print 'trimmed at '+date_from\n",
    "except:\n",
    "    print 'no trim'"
   ]
  },
  {
   "cell_type": "markdown",
   "metadata": {},
   "source": [
    "\n",
    "# <span class=\"mark\">Prohpet</span>"
   ]
  },
  {
   "cell_type": "code",
   "execution_count": 220,
   "metadata": {
    "ExecuteTime": {
     "end_time": "2017-06-23T11:18:02.582314Z",
     "start_time": "2017-06-23T11:11:07.253509Z"
    },
    "collapsed": false,
    "scrolled": true
   },
   "outputs": [
    {
     "name": "stdout",
     "output_type": "stream",
     "text": [
      "Disabling yearly seasonality. Run prophet with yearly_seasonality=True to override this.\n",
      "Disabling yearly seasonality. Run prophet with yearly_seasonality=True to override this.\n",
      "Disabling yearly seasonality. Run prophet with yearly_seasonality=True to override this.\n",
      "Disabling yearly seasonality. Run prophet with yearly_seasonality=True to override this.\n",
      "Disabling yearly seasonality. Run prophet with yearly_seasonality=True to override this.\n",
      "Disabling yearly seasonality. Run prophet with yearly_seasonality=True to override this.\n",
      "Disabling yearly seasonality. Run prophet with yearly_seasonality=True to override this.\n",
      "Disabling yearly seasonality. Run prophet with yearly_seasonality=True to override this.\n",
      "Disabling yearly seasonality. Run prophet with yearly_seasonality=True to override this.\n",
      "Disabling yearly seasonality. Run prophet with yearly_seasonality=True to override this.\n",
      "Disabling yearly seasonality. Run prophet with yearly_seasonality=True to override this.\n",
      "Disabling yearly seasonality. Run prophet with yearly_seasonality=True to override this.\n"
     ]
    }
   ],
   "source": [
    "for i in range(1,len(trips.columns)):\n",
    "    df=trips[['day',list(trips.columns)[i]]] #setup dataframe format\n",
    "    df.columns=['ds','y'] #rename columns\n",
    "\n",
    "    m = Prophet() # setup model\n",
    "    m.fit(df) # fit model\n",
    "    future = m.make_future_dataframe(periods=365) #setup forecast periods\n",
    "    forecast = m.predict(future) #generate forecast\n",
    "\n",
    "    fcst = forecast[['ds', 'yhat', 'yhat_lower', 'yhat_upper']]\n",
    "    fcst.columns=['day',\"fcst_\"+str(list(trips.columns)[i]), \"fcst_\"+str(list(trips.columns)[i])+\"_low\", \"fcst_\"+str(list(trips.columns)[i])+\"_upp\"]\n",
    "    if i==1:\n",
    "        fcst_trips=fcst\n",
    "    else:\n",
    "        fcst_trips = pd.merge(fcst_trips, fcst, on='day', how='left')"
   ]
  },
  {
   "cell_type": "code",
   "execution_count": 221,
   "metadata": {
    "ExecuteTime": {
     "end_time": "2017-06-23T11:18:02.663486Z",
     "start_time": "2017-06-23T11:18:02.584459Z"
    },
    "collapsed": false
   },
   "outputs": [],
   "source": [
    "fcst_trips=fcst_trips.set_index('day') #set idex to be date\n",
    "\n",
    "# remove forecast values for dates prioir to forcast date\n",
    "for k in range(0,len(list(fcst_trips.columns))):\n",
    "    fcst_trips.loc['2015-01-01':date_from, list(fcst_trips.columns)[k]] = np.nan"
   ]
  },
  {
   "cell_type": "code",
   "execution_count": 222,
   "metadata": {
    "ExecuteTime": {
     "end_time": "2017-06-23T11:18:02.676821Z",
     "start_time": "2017-06-23T11:18:02.666570Z"
    },
    "collapsed": false
   },
   "outputs": [],
   "source": [
    "trips=trips3 #get historical data\n",
    "trips['day']=pd.to_datetime(trips['day']) # create datetime dates\n",
    "trips=trips.set_index('day') #index it on time\n",
    "del trips.index.name\n",
    "fcst_trips = pd.concat([fcst_trips, trips], axis=1) #join data to commbine history+forecasts"
   ]
  },
  {
   "cell_type": "code",
   "execution_count": 223,
   "metadata": {
    "ExecuteTime": {
     "end_time": "2017-06-23T11:18:02.698331Z",
     "start_time": "2017-06-23T11:18:02.679268Z"
    },
    "collapsed": false
   },
   "outputs": [],
   "source": [
    "fcst_weekly =fcst_trips.resample('W').sum() #resample weekly\n",
    "fcst_trips['date']=fcst_trips.index #add date column for saving\n",
    "fcst_weekly['date']=fcst_weekly.index #add date column for saving"
   ]
  },
  {
   "cell_type": "code",
   "execution_count": 224,
   "metadata": {
    "ExecuteTime": {
     "end_time": "2017-06-23T11:18:02.778596Z",
     "start_time": "2017-06-23T11:18:02.701284Z"
    },
    "collapsed": true
   },
   "outputs": [],
   "source": [
    "fcst_trips = fcst_trips.replace(np.nan, '', regex=True) #replace NaN with blank\n",
    "fcst_weekly = fcst_weekly.replace(np.nan, '', regex=True) #replace NaN with blank"
   ]
  },
  {
   "cell_type": "code",
   "execution_count": 225,
   "metadata": {
    "ExecuteTime": {
     "end_time": "2017-06-23T11:18:02.783716Z",
     "start_time": "2017-06-23T11:18:02.780958Z"
    },
    "collapsed": false
   },
   "outputs": [],
   "source": [
    "#fcst_weekly.describe().transpose()\n",
    "#fcst_trips.describe().transpose()"
   ]
  },
  {
   "cell_type": "markdown",
   "metadata": {},
   "source": [
    "# <span class=\"mark\">Push to Google Sheets</span>"
   ]
  },
  {
   "cell_type": "code",
   "execution_count": 226,
   "metadata": {
    "ExecuteTime": {
     "end_time": "2017-06-23T11:18:02.882625Z",
     "start_time": "2017-06-23T11:18:02.785671Z"
    },
    "collapsed": false
   },
   "outputs": [
    {
     "name": "stderr",
     "output_type": "stream",
     "text": [
      "INFO:oauth2client.client:Refreshing access_token\n"
     ]
    }
   ],
   "source": [
    "# dont forget to share sheet with this email: XXX.iam.gserviceaccount.com\n",
    "# guide: http://alexsavio.github.io/gspread_oauth2client_intro.html\n",
    "\n",
    "json_key = 'XXX.json'\n",
    "scope = ['https://spreadsheets.google.com/feeds']\n",
    "credentials = ServiceAccountCredentials.from_json_keyfile_name(json_key, scope)\n",
    "gc = gspread.authorize(credentials)\n"
   ]
  },
  {
   "cell_type": "code",
   "execution_count": 227,
   "metadata": {
    "ExecuteTime": {
     "end_time": "2017-06-23T11:18:05.584845Z",
     "start_time": "2017-06-23T11:18:02.885984Z"
    },
    "collapsed": true
   },
   "outputs": [],
   "source": [
    "wks1 = gc.open(\"00 forecasting\").worksheet('Daily')\n",
    "wks2 = gc.open(\"00 forecasting\").worksheet('Weekly')"
   ]
  },
  {
   "cell_type": "code",
   "execution_count": 228,
   "metadata": {
    "ExecuteTime": {
     "end_time": "2017-06-23T11:18:05.646009Z",
     "start_time": "2017-06-23T11:18:05.587190Z"
    },
    "collapsed": true
   },
   "outputs": [],
   "source": [
    "#show data from / to dates:\n",
    "show_from = '2017-01-01'\n",
    "show_to = '2018-04-01'\n",
    "\n",
    "d1=fcst_trips[show_from :show_to]\n",
    "d2=fcst_weekly[show_from :show_to]"
   ]
  },
  {
   "cell_type": "code",
   "execution_count": 229,
   "metadata": {
    "ExecuteTime": {
     "end_time": "2017-06-23T11:18:05.651492Z",
     "start_time": "2017-06-23T11:18:05.648624Z"
    },
    "collapsed": true
   },
   "outputs": [],
   "source": [
    "all_wks=[wks1,wks2]\n",
    "all_daf=[d1,d2]"
   ]
  },
  {
   "cell_type": "code",
   "execution_count": 230,
   "metadata": {
    "ExecuteTime": {
     "end_time": "2017-06-23T11:18:05.658481Z",
     "start_time": "2017-06-23T11:18:05.653462Z"
    },
    "collapsed": false,
    "hide_input": true
   },
   "outputs": [],
   "source": [
    "# Define function to be used\n",
    "def numberToLetters(q):\n",
    "    q = q - 1\n",
    "    result = ''\n",
    "    while q >= 0:\n",
    "        remain = q % 26\n",
    "        result = chr(remain+65) + result;\n",
    "        q = q//26 - 1\n",
    "    return result"
   ]
  },
  {
   "cell_type": "code",
   "execution_count": 231,
   "metadata": {
    "ExecuteTime": {
     "end_time": "2017-06-23T11:20:25.885812Z",
     "start_time": "2017-06-23T11:18:05.660706Z"
    },
    "collapsed": false
   },
   "outputs": [],
   "source": [
    "for q in range(0,len(all_wks)):\n",
    "\n",
    "    daf = all_daf[q] # df to be saved\n",
    "    wks = all_wks[q] # worksheet to save it in\n",
    "    \n",
    "    # Label Columns\n",
    "    columns = daf.columns.values.tolist() # columns names\n",
    "    cell_list = wks.range('A1:'+numberToLetters(len(columns))+'1') # selection of the range that will be updated\n",
    "    # modifying the values in the range\n",
    "    for cell in cell_list:\n",
    "        val = columns[cell.col-1]\n",
    "        if type(val) is str:\n",
    "            val = val.decode('utf-8')\n",
    "        cell.value = val\n",
    "    wks.update_cells(cell_list) # update in batch\n",
    "\n",
    "    # Fill Data\n",
    "\n",
    "    num_lines, num_columns = daf.shape # number of lines and columns\n",
    "    cell_list = wks.range('A2:'+numberToLetters(num_columns)+str(num_lines+1)) # selection of the range that will be updated\n",
    "    # modifying the values in the range\n",
    "    for cell in cell_list:\n",
    "        val = daf.iloc[cell.row-2,cell.col-1]\n",
    "        if type(val) is str:\n",
    "            val = val.decode('utf-8')\n",
    "        elif str(val)=='nan':\n",
    "            val = 'NaN'\n",
    "        elif isinstance(val, (int, long, float, complex)):\n",
    "            #val = round(val) # note that we round all numbers\n",
    "            val = int(round(val)) # note that we round all numbers\n",
    "        cell.value = val\n",
    "    wks.update_cells(cell_list) # update in batch"
   ]
  },
  {
   "cell_type": "code",
   "execution_count": null,
   "metadata": {
    "ExecuteTime": {
     "end_time": "2017-06-13T14:16:47.859857Z",
     "start_time": "2017-06-13T14:16:47.793851Z"
    },
    "collapsed": false
   },
   "outputs": [],
   "source": []
  },
  {
   "cell_type": "code",
   "execution_count": null,
   "metadata": {
    "ExecuteTime": {
     "end_time": "2017-06-13T17:46:05.576918Z",
     "start_time": "2017-06-13T17:46:05.537071Z"
    },
    "collapsed": false
   },
   "outputs": [],
   "source": []
  },
  {
   "cell_type": "code",
   "execution_count": null,
   "metadata": {
    "ExecuteTime": {
     "end_time": "2017-06-13T17:46:19.242476Z",
     "start_time": "2017-06-13T17:46:19.229472Z"
    },
    "collapsed": false
   },
   "outputs": [],
   "source": []
  },
  {
   "cell_type": "code",
   "execution_count": null,
   "metadata": {
    "ExecuteTime": {
     "end_time": "2017-06-13T17:46:24.624352Z",
     "start_time": "2017-06-13T17:46:24.617635Z"
    },
    "collapsed": false
   },
   "outputs": [],
   "source": []
  },
  {
   "cell_type": "code",
   "execution_count": null,
   "metadata": {
    "ExecuteTime": {
     "end_time": "2017-06-13T17:46:41.072450Z",
     "start_time": "2017-06-13T17:46:40.998335Z"
    },
    "collapsed": false
   },
   "outputs": [],
   "source": []
  },
  {
   "cell_type": "code",
   "execution_count": null,
   "metadata": {
    "collapsed": true
   },
   "outputs": [],
   "source": []
  }
 ],
 "metadata": {
  "kernelspec": {
   "display_name": "Python 3",
   "language": "python",
   "name": "python3"
  },
  "language_info": {
   "codemirror_mode": {
    "name": "ipython",
    "version": 3
   },
   "file_extension": ".py",
   "mimetype": "text/x-python",
   "name": "python",
   "nbconvert_exporter": "python",
   "pygments_lexer": "ipython3",
   "version": "3.6.0"
  },
  "toc": {
   "colors": {
    "hover_highlight": "#DAA520",
    "running_highlight": "#FF0000",
    "selected_highlight": "#FFD700"
   },
   "moveMenuLeft": true,
   "nav_menu": {
    "height": "199px",
    "width": "252px"
   },
   "navigate_menu": true,
   "number_sections": true,
   "sideBar": true,
   "threshold": 4,
   "toc_cell": false,
   "toc_section_display": "block",
   "toc_window_display": false,
   "widenNotebook": false
  }
 },
 "nbformat": 4,
 "nbformat_minor": 2
}
